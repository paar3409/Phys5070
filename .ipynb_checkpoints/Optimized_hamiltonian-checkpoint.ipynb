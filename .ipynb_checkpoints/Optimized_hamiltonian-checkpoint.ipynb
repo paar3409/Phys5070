{
 "cells": [
  {
   "cell_type": "markdown",
   "metadata": {},
   "source": [
    "# Optimizing the system Hamiltonian\n",
    "\n",
    "This is my attempt at speeding up the calculation from qutip. Qutip is already pretty optimized it seems, but my guess is that by doing something specific to my system I can make it all compute faster. "
   ]
  },
  {
   "cell_type": "code",
   "execution_count": 1,
   "metadata": {},
   "outputs": [],
   "source": [
    "import numpy as np\n",
    "import matplotlib.pyplot as plt\n",
    "import scipy.sparse as scsp"
   ]
  },
  {
   "cell_type": "markdown",
   "metadata": {},
   "source": [
    "Make everything out of sparse matrices, which go to C directly so that it is fast. I am making functions that create the correct dimension operators"
   ]
  },
  {
   "cell_type": "code",
   "execution_count": null,
   "metadata": {},
   "outputs": [],
   "source": [
    "def lowering(dim):\n",
    "    mv = np.linspace(1,dim-1,dim-1)\n",
    "    return scsp.diags( np.sqrt(mv), 1)\n",
    "    \n",
    "def raising(dim):\n",
    "    return lowering(dim).transpose()\n",
    "\n",
    "def otimes2(a,b):\n",
    "    '''\n",
    "    Function to streamline the tensor products. Checks if the matrices are compressed, and if not make them.\n",
    "    '''\n",
    "    if not scsp.issparse(a):\n",
    "        a = scsp.csc_matrix(a)\n",
    "    if not scsp.issparse(b):\n",
    "        b = scsp.csc_matrix(b)\n",
    "        \n",
    "    f = scsp.kron(a,b)\n",
    "    \n",
    "    return f"
   ]
  },
  {
   "cell_type": "markdown",
   "metadata": {},
   "source": [
    "Set the desired parameters"
   ]
  },
  {
   "cell_type": "code",
   "execution_count": null,
   "metadata": {},
   "outputs": [],
   "source": [
    "E_C = .280 #GHz\n",
    "E_J = 50*E_C\n",
    "omega_r = 7.500 #GHz\n",
    "g = .250 #GHz\n",
    "kappa = 2*np.pi*0.020 #GHz\n",
    "omega_d = omega_r"
   ]
  },
  {
   "cell_type": "markdown",
   "metadata": {},
   "source": [
    "Set the desired dimensions"
   ]
  },
  {
   "cell_type": "code",
   "execution_count": null,
   "metadata": {},
   "outputs": [],
   "source": [
    "N1 = 4\n",
    "N2 = 40"
   ]
  },
  {
   "cell_type": "markdown",
   "metadata": {},
   "source": [
    "Now setup the Hamiltonian"
   ]
  },
  {
   "cell_type": "code",
   "execution_count": null,
   "metadata": {},
   "outputs": [],
   "source": [
    "qubit = \n",
    "interaction = \n",
    "resonator = \n",
    "hamiltonian = qubit + interaction + resonator"
   ]
  }
 ],
 "metadata": {
  "kernelspec": {
   "display_name": "Python 3",
   "language": "python",
   "name": "python3"
  },
  "language_info": {
   "codemirror_mode": {
    "name": "ipython",
    "version": 3
   },
   "file_extension": ".py",
   "mimetype": "text/x-python",
   "name": "python",
   "nbconvert_exporter": "python",
   "pygments_lexer": "ipython3",
   "version": "3.8.5"
  }
 },
 "nbformat": 4,
 "nbformat_minor": 4
}
